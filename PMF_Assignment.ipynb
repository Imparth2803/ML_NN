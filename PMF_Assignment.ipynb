{
 "cells": [
  {
   "cell_type": "markdown",
   "metadata": {
    "colab_type": "text",
    "id": "sE0imG0HLDgf"
   },
   "source": [
    "# PMF for Recommender Systems\n",
    "\n",
    "This is an implementation for Probabilistic Matrix Factorisation. We have made use of a subset of the IMDB dataset for training purposes."
   ]
  },
  {
   "cell_type": "code",
   "execution_count": 1,
   "metadata": {
    "colab": {},
    "colab_type": "code",
    "id": "8-65Kyq2Kv8R"
   },
   "outputs": [],
   "source": [
    "import matplotlib.pyplot as plt\n",
    "import numpy as np\n",
    "import pandas as pd\n",
    "\n",
    "from sklearn.metrics import mean_squared_error"
   ]
  },
  {
   "cell_type": "markdown",
   "metadata": {
    "colab_type": "text",
    "id": "pDzg9SMk_iW8"
   },
   "source": [
    "Let's now download our dataset. We will also unzip it for further use."
   ]
  },
  {
   "cell_type": "code",
   "execution_count": 2,
   "metadata": {
    "colab": {
     "base_uri": "https://localhost:8080/",
     "height": 334
    },
    "colab_type": "code",
    "id": "iUB7uFWdQzF7",
    "outputId": "32574479-ff4f-4e26-9fc0-305b20e19fd5"
   },
   "outputs": [
    {
     "name": "stdout",
     "output_type": "stream",
     "text": [
      "zsh:1: command not found: wget\n",
      "unzip:  cannot find or open ml-latest-small.zip, ml-latest-small.zip.zip or ml-latest-small.zip.ZIP.\n"
     ]
    }
   ],
   "source": [
    "!wget http://files.grouplens.org/datasets/movielens/ml-latest-small.zip\n",
    "!unzip ml-latest-small.zip"
   ]
  },
  {
   "cell_type": "markdown",
   "metadata": {
    "colab_type": "text",
    "id": "PCubprYO_zIS"
   },
   "source": [
    "Let's take a look at part of the ratings file to get an idea of the columns available."
   ]
  },
  {
   "cell_type": "code",
   "execution_count": 6,
   "metadata": {
    "colab": {
     "base_uri": "https://localhost:8080/",
     "height": 195
    },
    "colab_type": "code",
    "id": "dbWjyrOEC5G1",
    "outputId": "25cce28a-4357-4c26-f687-dd49d5f4fa9b"
   },
   "outputs": [
    {
     "data": {
      "text/html": [
       "<div>\n",
       "<style scoped>\n",
       "    .dataframe tbody tr th:only-of-type {\n",
       "        vertical-align: middle;\n",
       "    }\n",
       "\n",
       "    .dataframe tbody tr th {\n",
       "        vertical-align: top;\n",
       "    }\n",
       "\n",
       "    .dataframe thead th {\n",
       "        text-align: right;\n",
       "    }\n",
       "</style>\n",
       "<table border=\"1\" class=\"dataframe\">\n",
       "  <thead>\n",
       "    <tr style=\"text-align: right;\">\n",
       "      <th></th>\n",
       "      <th>userId</th>\n",
       "      <th>movieId</th>\n",
       "      <th>rating</th>\n",
       "      <th>timestamp</th>\n",
       "    </tr>\n",
       "  </thead>\n",
       "  <tbody>\n",
       "    <tr>\n",
       "      <th>0</th>\n",
       "      <td>1</td>\n",
       "      <td>1</td>\n",
       "      <td>4.0</td>\n",
       "      <td>964982703</td>\n",
       "    </tr>\n",
       "    <tr>\n",
       "      <th>1</th>\n",
       "      <td>1</td>\n",
       "      <td>3</td>\n",
       "      <td>4.0</td>\n",
       "      <td>964981247</td>\n",
       "    </tr>\n",
       "    <tr>\n",
       "      <th>2</th>\n",
       "      <td>1</td>\n",
       "      <td>6</td>\n",
       "      <td>4.0</td>\n",
       "      <td>964982224</td>\n",
       "    </tr>\n",
       "    <tr>\n",
       "      <th>3</th>\n",
       "      <td>1</td>\n",
       "      <td>47</td>\n",
       "      <td>5.0</td>\n",
       "      <td>964983815</td>\n",
       "    </tr>\n",
       "    <tr>\n",
       "      <th>4</th>\n",
       "      <td>1</td>\n",
       "      <td>50</td>\n",
       "      <td>5.0</td>\n",
       "      <td>964982931</td>\n",
       "    </tr>\n",
       "  </tbody>\n",
       "</table>\n",
       "</div>"
      ],
      "text/plain": [
       "   userId  movieId  rating  timestamp\n",
       "0       1        1     4.0  964982703\n",
       "1       1        3     4.0  964981247\n",
       "2       1        6     4.0  964982224\n",
       "3       1       47     5.0  964983815\n",
       "4       1       50     5.0  964982931"
      ]
     },
     "execution_count": 6,
     "metadata": {},
     "output_type": "execute_result"
    }
   ],
   "source": [
    "df = pd.read_csv('/Users/partht/Downloads/ml-latest-small/ratings.csv')\n",
    "df.head()"
   ]
  },
  {
   "cell_type": "markdown",
   "metadata": {
    "colab_type": "text",
    "id": "XfASJGv4AWHY"
   },
   "source": [
    "As part of the dataset, there is also another file that contains movie information, which includes the movie id, the title, the genre, among others. We can INNER JOIN the ratings and movies datasets to gain access to all data we will need for our analysis."
   ]
  },
  {
   "cell_type": "code",
   "execution_count": 7,
   "metadata": {
    "colab": {
     "base_uri": "https://localhost:8080/",
     "height": 195
    },
    "colab_type": "code",
    "id": "RQqW0Mzh_-Vd",
    "outputId": "9a0cb934-2540-47db-8da0-5f16f4e927c5"
   },
   "outputs": [
    {
     "data": {
      "text/html": [
       "<div>\n",
       "<style scoped>\n",
       "    .dataframe tbody tr th:only-of-type {\n",
       "        vertical-align: middle;\n",
       "    }\n",
       "\n",
       "    .dataframe tbody tr th {\n",
       "        vertical-align: top;\n",
       "    }\n",
       "\n",
       "    .dataframe thead th {\n",
       "        text-align: right;\n",
       "    }\n",
       "</style>\n",
       "<table border=\"1\" class=\"dataframe\">\n",
       "  <thead>\n",
       "    <tr style=\"text-align: right;\">\n",
       "      <th></th>\n",
       "      <th>movieId</th>\n",
       "      <th>title</th>\n",
       "      <th>genres</th>\n",
       "      <th>userId</th>\n",
       "      <th>rating</th>\n",
       "      <th>timestamp</th>\n",
       "    </tr>\n",
       "  </thead>\n",
       "  <tbody>\n",
       "    <tr>\n",
       "      <th>0</th>\n",
       "      <td>1</td>\n",
       "      <td>Toy Story (1995)</td>\n",
       "      <td>Adventure|Animation|Children|Comedy|Fantasy</td>\n",
       "      <td>1</td>\n",
       "      <td>4.0</td>\n",
       "      <td>964982703</td>\n",
       "    </tr>\n",
       "    <tr>\n",
       "      <th>1</th>\n",
       "      <td>1</td>\n",
       "      <td>Toy Story (1995)</td>\n",
       "      <td>Adventure|Animation|Children|Comedy|Fantasy</td>\n",
       "      <td>5</td>\n",
       "      <td>4.0</td>\n",
       "      <td>847434962</td>\n",
       "    </tr>\n",
       "    <tr>\n",
       "      <th>2</th>\n",
       "      <td>1</td>\n",
       "      <td>Toy Story (1995)</td>\n",
       "      <td>Adventure|Animation|Children|Comedy|Fantasy</td>\n",
       "      <td>7</td>\n",
       "      <td>4.5</td>\n",
       "      <td>1106635946</td>\n",
       "    </tr>\n",
       "    <tr>\n",
       "      <th>3</th>\n",
       "      <td>1</td>\n",
       "      <td>Toy Story (1995)</td>\n",
       "      <td>Adventure|Animation|Children|Comedy|Fantasy</td>\n",
       "      <td>15</td>\n",
       "      <td>2.5</td>\n",
       "      <td>1510577970</td>\n",
       "    </tr>\n",
       "    <tr>\n",
       "      <th>4</th>\n",
       "      <td>1</td>\n",
       "      <td>Toy Story (1995)</td>\n",
       "      <td>Adventure|Animation|Children|Comedy|Fantasy</td>\n",
       "      <td>17</td>\n",
       "      <td>4.5</td>\n",
       "      <td>1305696483</td>\n",
       "    </tr>\n",
       "  </tbody>\n",
       "</table>\n",
       "</div>"
      ],
      "text/plain": [
       "   movieId             title                                       genres  \\\n",
       "0        1  Toy Story (1995)  Adventure|Animation|Children|Comedy|Fantasy   \n",
       "1        1  Toy Story (1995)  Adventure|Animation|Children|Comedy|Fantasy   \n",
       "2        1  Toy Story (1995)  Adventure|Animation|Children|Comedy|Fantasy   \n",
       "3        1  Toy Story (1995)  Adventure|Animation|Children|Comedy|Fantasy   \n",
       "4        1  Toy Story (1995)  Adventure|Animation|Children|Comedy|Fantasy   \n",
       "\n",
       "   userId  rating   timestamp  \n",
       "0       1     4.0   964982703  \n",
       "1       5     4.0   847434962  \n",
       "2       7     4.5  1106635946  \n",
       "3      15     2.5  1510577970  \n",
       "4      17     4.5  1305696483  "
      ]
     },
     "execution_count": 7,
     "metadata": {},
     "output_type": "execute_result"
    }
   ],
   "source": [
    "df_movies = pd.read_csv('/Users/partht/Downloads/ml-latest-small/movies.csv')\n",
    "df_join = pd.merge(df_movies, df, how='inner', on='movieId')\n",
    "df_join.head()"
   ]
  },
  {
   "cell_type": "markdown",
   "metadata": {
    "colab_type": "text",
    "id": "STnXs_BhAnsm"
   },
   "source": [
    "Let's now prepare our sparse review matrix. For this purpose, we first need to find out how many users and movies we have in our dataset. Additionally, we will set S to 5 dimensions."
   ]
  },
  {
   "cell_type": "code",
   "execution_count": 8,
   "metadata": {
    "colab": {},
    "colab_type": "code",
    "id": "BDoGa6i7OFy_"
   },
   "outputs": [],
   "source": [
    "def get_ratings_matrix(df, train_size=0.75):\n",
    "    user_to_row = {}\n",
    "    movie_to_column = {}\n",
    "    df_values = df.values\n",
    "    n_dims = 10\n",
    "    parameters = {}\n",
    "    \n",
    "    uniq_users = np.unique(df_values[:, 3])\n",
    "    uniq_movies = np.unique(df_values[:, 0])\n",
    "\n",
    "    for i, user_id in enumerate(uniq_users):\n",
    "        user_to_row[user_id] = i\n",
    "\n",
    "    for j, movie_id in enumerate(uniq_movies):\n",
    "        movie_to_column[movie_id] = j\n",
    "    \n",
    "    n_users = len(uniq_users)\n",
    "    n_movies = len(uniq_movies)\n",
    "    \n",
    "    R = np.zeros((n_users, n_movies))\n",
    "    \n",
    "    df_copy = df.copy()\n",
    "    train_set = df_copy.sample(frac=train_size, random_state=0)\n",
    "    test_set = df_copy.drop(train_set.index)\n",
    "    \n",
    "    for index, row in train_set.iterrows():\n",
    "        i = user_to_row[row.userId]\n",
    "        j = movie_to_column[row.movieId]\n",
    "        R[i, j] = row.rating\n",
    "\n",
    "    return R, train_set, test_set, n_dims, n_users, n_movies, user_to_row, movie_to_column"
   ]
  },
  {
   "cell_type": "markdown",
   "metadata": {
    "colab_type": "text",
    "id": "bKIg5iNe5SKn"
   },
   "source": [
    "Let's now call this function and retrieve all necessary parameters."
   ]
  },
  {
   "cell_type": "code",
   "execution_count": 9,
   "metadata": {
    "colab": {},
    "colab_type": "code",
    "id": "HBjrbs8VD6_2"
   },
   "outputs": [],
   "source": [
    "R, train_set, test_set, n_dims, n_users, n_movies, user_to_row, movie_to_column = get_ratings_matrix(df_join, 0.8)\n",
    "parameters = {}"
   ]
  },
  {
   "cell_type": "markdown",
   "metadata": {
    "colab_type": "text",
    "id": "2C8nnfseBTOM"
   },
   "source": [
    "We will now initialise our parameters. First the $V$ matrix can be initialised randomly using the following distribution:\n",
    "\n",
    "\\begin{equation}\n",
    "\\large\n",
    "V \\sim \\mathcal N\\left(0, \\frac {1} {\\lambda_V}\\right)\n",
    "\\end{equation}\n",
    "\n",
    "Let's remember that:\n",
    "\n",
    "\\begin{equation}\n",
    "\\large\n",
    "U \\in \\mathbb R^{D\\times N}, \\qquad V \\in \\mathbb R^{D\\times M}\n",
    "\\end{equation}\n",
    "\n",
    "Where $N$ is __n_users__, $M$ is __n_movies__ and $D$ is __n_dims__."
   ]
  },
  {
   "cell_type": "code",
   "execution_count": 24,
   "metadata": {
    "colab": {},
    "colab_type": "code",
    "id": "HaM_fnR0Nd_i"
   },
   "outputs": [],
   "source": [
    "# Initialize Parameters with Gaussian Priors\n",
    "def initialize_parameters(lambda_U, lambda_V):\n",
    "    \"\"\"\n",
    "    Initializes user (U) and item (V) matrices with Gaussian priors.\n",
    "    \n",
    "    U: Zero-mean prior with no variance scaling (zeros initialization).\n",
    "    V: Gaussian distribution N(0, 1/lambda_V).\n",
    "    \n",
    "    Parameters:\n",
    "    - lambda_U: Regularization parameter for user features.\n",
    "    - lambda_V: Regularization parameter for item features.\n",
    "    \"\"\"\n",
    "    U = np.zeros((n_dims, n_users), dtype=np.float64)  # Zero-mean Gaussian prior\n",
    "    V = np.random.normal(0.0, 1.0 / lambda_V, (n_dims, n_movies))  # Gaussian prior for items\n",
    "    \n",
    "    parameters['U'] = U\n",
    "    parameters['V'] = V\n",
    "    parameters['lambda_U'] = lambda_U\n",
    "    parameters['lambda_V'] = lambda_V"
   ]
  },
  {
   "cell_type": "code",
   "execution_count": 27,
   "metadata": {
    "colab": {},
    "colab_type": "code",
    "id": "DjKB4TzFkoJx"
   },
   "outputs": [],
   "source": [
    "def gradient_descent_step(learning_rate):\n",
    "    \"\"\"\n",
    "    Performs a single gradient descent step to update U and V matrices.\n",
    "    Gradients are computed with respect to the log-posterior.\n",
    "    \n",
    "    \"\"\"\n",
    "    U = parameters['U']\n",
    "    V = parameters['V']\n",
    "    lambda_U = parameters['lambda_U']\n",
    "    lambda_V = parameters['lambda_V']\n",
    "    \n",
    "    # Gradients for U and V\n",
    "    U_grad = -np.dot(V, (R - np.dot(U.T, V)).T) + lambda_U * U\n",
    "    V_grad = -np.dot(U, (R - np.dot(U.T, V))) + lambda_V * V\n",
    "    \n",
    "    # Update U and V\n",
    "    U -= learning_rate * U_grad\n",
    "    V -= learning_rate * V_grad\n",
    "    \n",
    "    parameters['U'] = U\n",
    "    parameters['V'] = V"
   ]
  },
  {
   "cell_type": "markdown",
   "metadata": {
    "colab_type": "text",
    "id": "hQ5in2inJApx"
   },
   "source": [
    "Now let's implement the Log-a posteriori:\n",
    "\n",
    "\\begin{equation}\n",
    "\\large\n",
    "L=-\\frac 1 2 \\left(\\sum_{i=1}^N\\sum_{j=1}^M(R_{ij}-U_i^TV_j)_{(i,j) \\in \\Omega_{R_{ij}}}^2+\\lambda_U\\sum_{i=1}^N\\|U_i\\|_{Fro}^2+\\lambda_V\\sum_{j=1}^M\\|V_j\\|_{Fro}^2\\right)\n",
    "\\end{equation}"
   ]
  },
  {
   "cell_type": "code",
   "execution_count": 28,
   "metadata": {
    "colab": {},
    "colab_type": "code",
    "id": "5PUgHUp2MeZI"
   },
   "outputs": [],
   "source": [
    "def log_a_posteriori():\n",
    "    \"\"\"\n",
    "    Computes the log-posterior for the PMF model\n",
    "    \n",
    "    Components:\n",
    "    - Likelihood: Gaussian likelihood for observed ratings.\n",
    "    - Priors: Regularization terms for U and V matrices.\n",
    "    \"\"\"\n",
    "    lambda_U = parameters['lambda_U']\n",
    "    lambda_V = parameters['lambda_V']\n",
    "    U = parameters['U']\n",
    "    V = parameters['V']\n",
    "    \n",
    "    # Likelihood component\n",
    "    UV = np.dot(U.T, V)\n",
    "    R_UV = (R[R > 0] - UV[R > 0])  # Difference for observed ratings\n",
    "    \n",
    "    # Priors (regularization terms)\n",
    "    U_prior = lambda_U * np.sum(U**2)\n",
    "    V_prior = lambda_V * np.sum(V**2)\n",
    "    \n",
    "    return -0.5 * (np.sum(R_UV**2) + U_prior + V_prior)"
   ]
  },
  {
   "cell_type": "markdown",
   "metadata": {
    "colab_type": "text",
    "id": "68fmuPQrPRnU"
   },
   "source": [
    "The __predict__ function allows us to predict the rating value given the __user_id__ and the __movie_id__ parameters. The value has been scaled within the range 0-5"
   ]
  },
  {
   "cell_type": "code",
   "execution_count": 29,
   "metadata": {
    "colab": {},
    "colab_type": "code",
    "id": "neTN8ejbQ5dg"
   },
   "outputs": [],
   "source": [
    "def predict(user_id, movie_id):\n",
    "    U = parameters['U']\n",
    "    V = parameters['V']\n",
    "    \n",
    "    r_ij = U[:, user_to_row[user_id]].T.reshape(1, -1) @ V[:, movie_to_column[movie_id]].reshape(-1, 1)\n",
    "\n",
    "    max_rating = parameters['max_rating']\n",
    "    min_rating = parameters['min_rating']\n",
    "\n",
    "    return 0 if max_rating == min_rating else ((r_ij[0][0] - min_rating) / (max_rating - min_rating)) * 5.0"
   ]
  },
  {
   "cell_type": "markdown",
   "metadata": {
    "colab_type": "text",
    "id": "7Rt2ol1j7OJ0"
   },
   "source": [
    "The __evaluate__ function will calculate the __RMSE__ of the model given a dataset (train or test)."
   ]
  },
  {
   "cell_type": "code",
   "execution_count": 30,
   "metadata": {
    "colab": {},
    "colab_type": "code",
    "id": "jnNGbogWh6OR"
   },
   "outputs": [],
   "source": [
    "def evaluate(dataset):\n",
    "    \"\"\"\n",
    "    Evaluates the model's performance using RMSE (Root Mean Squared Error).\n",
    "    \n",
    "    RMSE quantifies the average prediction error. Lower values indicate better accuracy.\n",
    "    \n",
    "    \"\"\"\n",
    "    ground_truths = []\n",
    "    predictions = []\n",
    "    \n",
    "    for _, row in dataset.iterrows():\n",
    "        ground_truths.append(row['rating'])\n",
    "        predictions.append(predict(row['userId'], row['movieId']))\n",
    "    \n",
    "    return mean_squared_error(ground_truths, predictions, squared=False)"
   ]
  },
  {
   "cell_type": "markdown",
   "metadata": {
    "colab_type": "text",
    "id": "6R1ePeME7qSW"
   },
   "source": [
    "For the purposes of scaling, we need the maximum and minimum rating values."
   ]
  },
  {
   "cell_type": "code",
   "execution_count": 31,
   "metadata": {
    "colab": {},
    "colab_type": "code",
    "id": "YNIlELvx0M0W"
   },
   "outputs": [],
   "source": [
    "def update_max_min_ratings():\n",
    "    U = parameters['U']\n",
    "    V = parameters['V']\n",
    "\n",
    "    R = U.T @ V\n",
    "    min_rating = np.min(R)\n",
    "    max_rating = np.max(R)\n",
    "\n",
    "    parameters['min_rating'] = min_rating\n",
    "    parameters['max_rating'] = max_rating"
   ]
  },
  {
   "cell_type": "markdown",
   "metadata": {
    "colab_type": "text",
    "id": "AZGq6J9pDl5O"
   },
   "source": [
    "The __train__ function implements the code necessary for training the model as well as recording the __RMSE__ values on the training and testing sets."
   ]
  },
  {
   "cell_type": "code",
   "execution_count": 32,
   "metadata": {
    "colab": {},
    "colab_type": "code",
    "id": "VYwTD_nBNO5F"
   },
   "outputs": [],
   "source": [
    "def train(n_epochs):\n",
    "    initialize_parameters(0.3, 0.3)\n",
    "    log_aps = []\n",
    "    rmse_train = []\n",
    "    rmse_test = []\n",
    "\n",
    "    update_max_min_ratings()\n",
    "    rmse_train.append(evaluate(train_set))\n",
    "    rmse_test.append(evaluate(test_set))\n",
    "    \n",
    "    for k in range(n_epochs):\n",
    "        update_parameters()\n",
    "        log_ap = log_a_posteriori()\n",
    "        log_aps.append(log_ap)\n",
    "\n",
    "        if (k + 1) % 10 == 0:\n",
    "            update_max_min_ratings()\n",
    "\n",
    "            rmse_train.append(evaluate(train_set))\n",
    "            rmse_test.append(evaluate(test_set))\n",
    "            print('Log p a-posteriori at iteration', k + 1, ':', log_ap)\n",
    "\n",
    "    update_max_min_ratings()\n",
    "\n",
    "    return log_aps, rmse_train, rmse_test"
   ]
  },
  {
   "cell_type": "markdown",
   "metadata": {
    "colab_type": "text",
    "id": "SJbozBbQPk9A"
   },
   "source": [
    "Let's train our model!"
   ]
  },
  {
   "cell_type": "code",
   "execution_count": 33,
   "metadata": {
    "colab": {
     "base_uri": "https://localhost:8080/",
     "height": 281
    },
    "colab_type": "code",
    "id": "XeH5sRNp7eHA",
    "outputId": "8e0cb783-9b32-41aa-9a4a-908aac9d613d"
   },
   "outputs": [
    {
     "name": "stdout",
     "output_type": "stream",
     "text": [
      "Log p a-posteriori at iteration 10 : -24532.169457872486\n",
      "Log p a-posteriori at iteration 20 : -17037.326646244324\n",
      "Log p a-posteriori at iteration 30 : -14567.727164381355\n",
      "Log p a-posteriori at iteration 40 : -13374.207748195755\n",
      "Log p a-posteriori at iteration 50 : -12681.761898571687\n",
      "Log p a-posteriori at iteration 60 : -12260.29645120691\n",
      "Log p a-posteriori at iteration 70 : -11986.316293452395\n",
      "Log p a-posteriori at iteration 80 : -11801.05874833944\n",
      "Log p a-posteriori at iteration 90 : -11671.503864540278\n",
      "Log p a-posteriori at iteration 100 : -11578.225746442185\n",
      "Log p a-posteriori at iteration 110 : -11507.78623321844\n",
      "Log p a-posteriori at iteration 120 : -11451.866460515581\n",
      "Log p a-posteriori at iteration 130 : -11407.259164562773\n",
      "Log p a-posteriori at iteration 140 : -11372.018898333352\n",
      "Log p a-posteriori at iteration 150 : -11343.154199301967\n"
     ]
    }
   ],
   "source": [
    "log_ps, rmse_train, rmse_test = train(150)"
   ]
  },
  {
   "cell_type": "markdown",
   "metadata": {
    "colab_type": "text",
    "id": "TKzp4hukECUE"
   },
   "source": [
    "Now let's take a look at some graphs"
   ]
  },
  {
   "cell_type": "code",
   "execution_count": 34,
   "metadata": {
    "colab": {
     "base_uri": "https://localhost:8080/"
    },
    "colab_type": "code",
    "id": "yRr_wko07e37",
    "outputId": "46313b0b-5d4a-4448-8638-12ef81baf4c2"
   },
   "outputs": [
    {
     "data": {
      "image/png": "[encoded data removed]",
      "text/plain": [
       "<Figure size 2000x1000 with 2 Axes>"
      ]
     },
     "metadata": {},
     "output_type": "display_data"
    }
   ],
   "source": [
    "_, (ax1, ax2) = plt.subplots(1, 2, figsize=(20, 10))\n",
    "plt.title('Training results')\n",
    "ax1.plot(np.arange(len(log_ps)), log_ps, label='MAP')\n",
    "ax1.legend()\n",
    "\n",
    "ax2.plot(np.arange(len(rmse_train)), rmse_train, label='RMSE train')\n",
    "ax2.plot(np.arange(len(rmse_test)), rmse_test, label='RMSE test')\n",
    "ax2.legend()\n",
    "\n",
    "plt.show()"
   ]
  },
  {
   "cell_type": "markdown",
   "metadata": {
    "colab_type": "text",
    "id": "-nhrZDHvPx1-"
   },
   "source": [
    "Let's now evaluate our model on both the training and testing sets."
   ]
  },
  {
   "cell_type": "code",
   "execution_count": 35,
   "metadata": {
    "colab": {
     "base_uri": "https://localhost:8080/",
     "height": 52
    },
    "colab_type": "code",
    "id": "L9mKLM7BkuVz",
    "outputId": "7884e7ea-0349-4824-cd80-7c4add36f76c"
   },
   "outputs": [
    {
     "name": "stdout",
     "output_type": "stream",
     "text": [
      "RMSE of training set: 1.0053875826550782\n",
      "RMSE of testing set: 1.095324281943083\n"
     ]
    }
   ],
   "source": [
    "print('RMSE of training set:', evaluate(train_set))\n",
    "print('RMSE of testing set:', evaluate(test_set))"
   ]
  },
  {
   "cell_type": "markdown",
   "metadata": {
    "colab_type": "text",
    "id": "JEZtM1UiQUrA"
   },
   "source": [
    "Now we will pick a user from the database and look at his/her preferences."
   ]
  },
  {
   "cell_type": "code",
   "execution_count": 36,
   "metadata": {
    "colab": {
     "base_uri": "https://localhost:8080/"
    },
    "colab_type": "code",
    "id": "t-KBJYqbU--g",
    "outputId": "5a80faa9-26a8-42d1-ed08-0c75c83635ec"
   },
   "outputs": [
    {
     "data": {
      "text/html": [
       "<div>\n",
       "<style scoped>\n",
       "    .dataframe tbody tr th:only-of-type {\n",
       "        vertical-align: middle;\n",
       "    }\n",
       "\n",
       "    .dataframe tbody tr th {\n",
       "        vertical-align: top;\n",
       "    }\n",
       "\n",
       "    .dataframe thead th {\n",
       "        text-align: right;\n",
       "    }\n",
       "</style>\n",
       "<table border=\"1\" class=\"dataframe\">\n",
       "  <thead>\n",
       "    <tr style=\"text-align: right;\">\n",
       "      <th></th>\n",
       "      <th>movieId</th>\n",
       "      <th>title</th>\n",
       "      <th>genres</th>\n",
       "      <th>userId</th>\n",
       "      <th>rating</th>\n",
       "      <th>timestamp</th>\n",
       "    </tr>\n",
       "  </thead>\n",
       "  <tbody>\n",
       "    <tr>\n",
       "      <th>39202</th>\n",
       "      <td>2078</td>\n",
       "      <td>Jungle Book, The (1967)</td>\n",
       "      <td>Animation|Children|Comedy|Musical</td>\n",
       "      <td>45</td>\n",
       "      <td>5.0</td>\n",
       "      <td>950726248</td>\n",
       "    </tr>\n",
       "    <tr>\n",
       "      <th>46609</th>\n",
       "      <td>2694</td>\n",
       "      <td>Big Daddy (1999)</td>\n",
       "      <td>Comedy</td>\n",
       "      <td>45</td>\n",
       "      <td>5.0</td>\n",
       "      <td>951170525</td>\n",
       "    </tr>\n",
       "    <tr>\n",
       "      <th>46142</th>\n",
       "      <td>2657</td>\n",
       "      <td>Rocky Horror Picture Show, The (1975)</td>\n",
       "      <td>Comedy|Horror|Musical|Sci-Fi</td>\n",
       "      <td>45</td>\n",
       "      <td>5.0</td>\n",
       "      <td>950741248</td>\n",
       "    </tr>\n",
       "    <tr>\n",
       "      <th>55533</th>\n",
       "      <td>3578</td>\n",
       "      <td>Gladiator (2000)</td>\n",
       "      <td>Action|Adventure|Drama</td>\n",
       "      <td>45</td>\n",
       "      <td>5.0</td>\n",
       "      <td>1020803425</td>\n",
       "    </tr>\n",
       "    <tr>\n",
       "      <th>33101</th>\n",
       "      <td>1584</td>\n",
       "      <td>Contact (1997)</td>\n",
       "      <td>Drama|Sci-Fi</td>\n",
       "      <td>45</td>\n",
       "      <td>5.0</td>\n",
       "      <td>950740871</td>\n",
       "    </tr>\n",
       "    <tr>\n",
       "      <th>56625</th>\n",
       "      <td>3717</td>\n",
       "      <td>Gone in 60 Seconds (2000)</td>\n",
       "      <td>Action|Crime</td>\n",
       "      <td>45</td>\n",
       "      <td>5.0</td>\n",
       "      <td>1007994717</td>\n",
       "    </tr>\n",
       "    <tr>\n",
       "      <th>45369</th>\n",
       "      <td>2580</td>\n",
       "      <td>Go (1999)</td>\n",
       "      <td>Comedy|Crime</td>\n",
       "      <td>45</td>\n",
       "      <td>5.0</td>\n",
       "      <td>951756858</td>\n",
       "    </tr>\n",
       "    <tr>\n",
       "      <th>56996</th>\n",
       "      <td>3753</td>\n",
       "      <td>Patriot, The (2000)</td>\n",
       "      <td>Action|Drama|War</td>\n",
       "      <td>45</td>\n",
       "      <td>5.0</td>\n",
       "      <td>1007995101</td>\n",
       "    </tr>\n",
       "    <tr>\n",
       "      <th>57287</th>\n",
       "      <td>3793</td>\n",
       "      <td>X-Men (2000)</td>\n",
       "      <td>Action|Adventure|Sci-Fi</td>\n",
       "      <td>45</td>\n",
       "      <td>5.0</td>\n",
       "      <td>1007995171</td>\n",
       "    </tr>\n",
       "    <tr>\n",
       "      <th>57418</th>\n",
       "      <td>3798</td>\n",
       "      <td>What Lies Beneath (2000)</td>\n",
       "      <td>Drama|Horror|Mystery</td>\n",
       "      <td>45</td>\n",
       "      <td>5.0</td>\n",
       "      <td>1007995171</td>\n",
       "    </tr>\n",
       "  </tbody>\n",
       "</table>\n",
       "</div>"
      ],
      "text/plain": [
       "       movieId                                  title  \\\n",
       "39202     2078                Jungle Book, The (1967)   \n",
       "46609     2694                       Big Daddy (1999)   \n",
       "46142     2657  Rocky Horror Picture Show, The (1975)   \n",
       "55533     3578                       Gladiator (2000)   \n",
       "33101     1584                         Contact (1997)   \n",
       "56625     3717              Gone in 60 Seconds (2000)   \n",
       "45369     2580                              Go (1999)   \n",
       "56996     3753                    Patriot, The (2000)   \n",
       "57287     3793                           X-Men (2000)   \n",
       "57418     3798               What Lies Beneath (2000)   \n",
       "\n",
       "                                  genres  userId  rating   timestamp  \n",
       "39202  Animation|Children|Comedy|Musical      45     5.0   950726248  \n",
       "46609                             Comedy      45     5.0   951170525  \n",
       "46142       Comedy|Horror|Musical|Sci-Fi      45     5.0   950741248  \n",
       "55533             Action|Adventure|Drama      45     5.0  1020803425  \n",
       "33101                       Drama|Sci-Fi      45     5.0   950740871  \n",
       "56625                       Action|Crime      45     5.0  1007994717  \n",
       "45369                       Comedy|Crime      45     5.0   951756858  \n",
       "56996                   Action|Drama|War      45     5.0  1007995101  \n",
       "57287            Action|Adventure|Sci-Fi      45     5.0  1007995171  \n",
       "57418               Drama|Horror|Mystery      45     5.0  1007995171  "
      ]
     },
     "execution_count": 36,
     "metadata": {},
     "output_type": "execute_result"
    }
   ],
   "source": [
    "user_id = 45\n",
    "df_join[df_join['userId'] == user_id].sort_values(by=['rating'], ascending=False).head(10)"
   ]
  },
  {
   "cell_type": "markdown",
   "metadata": {
    "colab_type": "text",
    "id": "lfsqp9f3QcXi"
   },
   "source": [
    "Let's look at the least preferred items."
   ]
  },
  {
   "cell_type": "code",
   "execution_count": 37,
   "metadata": {
    "colab": {
     "base_uri": "https://localhost:8080/"
    },
    "colab_type": "code",
    "id": "bkHatTbO19dL",
    "outputId": "09a3fda4-1456-460c-d827-074f81b8094e"
   },
   "outputs": [
    {
     "data": {
      "text/html": [
       "<div>\n",
       "<style scoped>\n",
       "    .dataframe tbody tr th:only-of-type {\n",
       "        vertical-align: middle;\n",
       "    }\n",
       "\n",
       "    .dataframe tbody tr th {\n",
       "        vertical-align: top;\n",
       "    }\n",
       "\n",
       "    .dataframe thead th {\n",
       "        text-align: right;\n",
       "    }\n",
       "</style>\n",
       "<table border=\"1\" class=\"dataframe\">\n",
       "  <thead>\n",
       "    <tr style=\"text-align: right;\">\n",
       "      <th></th>\n",
       "      <th>movieId</th>\n",
       "      <th>title</th>\n",
       "      <th>genres</th>\n",
       "      <th>userId</th>\n",
       "      <th>rating</th>\n",
       "      <th>timestamp</th>\n",
       "    </tr>\n",
       "  </thead>\n",
       "  <tbody>\n",
       "    <tr>\n",
       "      <th>53154</th>\n",
       "      <td>3270</td>\n",
       "      <td>Cutting Edge, The (1992)</td>\n",
       "      <td>Comedy|Drama|Romance</td>\n",
       "      <td>45</td>\n",
       "      <td>1.0</td>\n",
       "      <td>950718581</td>\n",
       "    </tr>\n",
       "    <tr>\n",
       "      <th>5111</th>\n",
       "      <td>173</td>\n",
       "      <td>Judge Dredd (1995)</td>\n",
       "      <td>Action|Crime|Sci-Fi</td>\n",
       "      <td>45</td>\n",
       "      <td>1.0</td>\n",
       "      <td>950741335</td>\n",
       "    </tr>\n",
       "    <tr>\n",
       "      <th>44072</th>\n",
       "      <td>2470</td>\n",
       "      <td>Crocodile Dundee (1986)</td>\n",
       "      <td>Adventure|Comedy</td>\n",
       "      <td>45</td>\n",
       "      <td>1.0</td>\n",
       "      <td>950740565</td>\n",
       "    </tr>\n",
       "    <tr>\n",
       "      <th>67895</th>\n",
       "      <td>5585</td>\n",
       "      <td>Ernest Scared Stupid (1991)</td>\n",
       "      <td>Comedy</td>\n",
       "      <td>45</td>\n",
       "      <td>1.0</td>\n",
       "      <td>1034344038</td>\n",
       "    </tr>\n",
       "    <tr>\n",
       "      <th>62486</th>\n",
       "      <td>4502</td>\n",
       "      <td>Ernest Saves Christmas (1988)</td>\n",
       "      <td>Children|Comedy</td>\n",
       "      <td>45</td>\n",
       "      <td>1.0</td>\n",
       "      <td>1034344018</td>\n",
       "    </tr>\n",
       "    <tr>\n",
       "      <th>60222</th>\n",
       "      <td>4104</td>\n",
       "      <td>Ernest Goes to Camp (1987)</td>\n",
       "      <td>Comedy</td>\n",
       "      <td>45</td>\n",
       "      <td>1.0</td>\n",
       "      <td>1034344018</td>\n",
       "    </tr>\n",
       "    <tr>\n",
       "      <th>53115</th>\n",
       "      <td>3268</td>\n",
       "      <td>Stop! Or My Mom Will Shoot (1992)</td>\n",
       "      <td>Action|Comedy</td>\n",
       "      <td>45</td>\n",
       "      <td>1.0</td>\n",
       "      <td>950740376</td>\n",
       "    </tr>\n",
       "    <tr>\n",
       "      <th>46306</th>\n",
       "      <td>2672</td>\n",
       "      <td>Thirteenth Floor, The (1999)</td>\n",
       "      <td>Drama|Sci-Fi|Thriller</td>\n",
       "      <td>45</td>\n",
       "      <td>1.0</td>\n",
       "      <td>950741061</td>\n",
       "    </tr>\n",
       "    <tr>\n",
       "      <th>54299</th>\n",
       "      <td>3439</td>\n",
       "      <td>Teenage Mutant Ninja Turtles II: The Secret of...</td>\n",
       "      <td>Action|Children|Fantasy</td>\n",
       "      <td>45</td>\n",
       "      <td>1.0</td>\n",
       "      <td>1034344018</td>\n",
       "    </tr>\n",
       "    <tr>\n",
       "      <th>15160</th>\n",
       "      <td>569</td>\n",
       "      <td>Little Big League (1994)</td>\n",
       "      <td>Comedy|Drama</td>\n",
       "      <td>45</td>\n",
       "      <td>2.0</td>\n",
       "      <td>950722240</td>\n",
       "    </tr>\n",
       "  </tbody>\n",
       "</table>\n",
       "</div>"
      ],
      "text/plain": [
       "       movieId                                              title  \\\n",
       "53154     3270                           Cutting Edge, The (1992)   \n",
       "5111       173                                 Judge Dredd (1995)   \n",
       "44072     2470                            Crocodile Dundee (1986)   \n",
       "67895     5585                        Ernest Scared Stupid (1991)   \n",
       "62486     4502                      Ernest Saves Christmas (1988)   \n",
       "60222     4104                         Ernest Goes to Camp (1987)   \n",
       "53115     3268                  Stop! Or My Mom Will Shoot (1992)   \n",
       "46306     2672                       Thirteenth Floor, The (1999)   \n",
       "54299     3439  Teenage Mutant Ninja Turtles II: The Secret of...   \n",
       "15160      569                           Little Big League (1994)   \n",
       "\n",
       "                        genres  userId  rating   timestamp  \n",
       "53154     Comedy|Drama|Romance      45     1.0   950718581  \n",
       "5111       Action|Crime|Sci-Fi      45     1.0   950741335  \n",
       "44072         Adventure|Comedy      45     1.0   950740565  \n",
       "67895                   Comedy      45     1.0  1034344038  \n",
       "62486          Children|Comedy      45     1.0  1034344018  \n",
       "60222                   Comedy      45     1.0  1034344018  \n",
       "53115            Action|Comedy      45     1.0   950740376  \n",
       "46306    Drama|Sci-Fi|Thriller      45     1.0   950741061  \n",
       "54299  Action|Children|Fantasy      45     1.0  1034344018  \n",
       "15160             Comedy|Drama      45     2.0   950722240  "
      ]
     },
     "execution_count": 37,
     "metadata": {},
     "output_type": "execute_result"
    }
   ],
   "source": [
    "df_join[df_join['userId'] == user_id].sort_values(by=['rating']).head(10)"
   ]
  },
  {
   "cell_type": "markdown",
   "metadata": {
    "colab_type": "text",
    "id": "iGu6-AnIQgyy"
   },
   "source": [
    "Let's now look at the most likely preferences of the selected user."
   ]
  },
  {
   "cell_type": "code",
   "execution_count": 39,
   "metadata": {
    "colab": {
     "base_uri": "https://localhost:8080/"
    },
    "colab_type": "code",
    "id": "EX_poCW7WcZO",
    "outputId": "d8e8cd67-3b00-4836-8a00-d87b349070a9"
   },
   "outputs": [
    {
     "data": {
      "text/html": [
       "<div>\n",
       "<style scoped>\n",
       "    .dataframe tbody tr th:only-of-type {\n",
       "        vertical-align: middle;\n",
       "    }\n",
       "\n",
       "    .dataframe tbody tr th {\n",
       "        vertical-align: top;\n",
       "    }\n",
       "\n",
       "    .dataframe thead th {\n",
       "        text-align: right;\n",
       "    }\n",
       "</style>\n",
       "<table border=\"1\" class=\"dataframe\">\n",
       "  <thead>\n",
       "    <tr style=\"text-align: right;\">\n",
       "      <th></th>\n",
       "      <th>UserID</th>\n",
       "      <th>MovieID</th>\n",
       "      <th>Movie</th>\n",
       "      <th>Genres</th>\n",
       "      <th>Prediction</th>\n",
       "    </tr>\n",
       "  </thead>\n",
       "  <tbody>\n",
       "    <tr>\n",
       "      <th>0</th>\n",
       "      <td>45</td>\n",
       "      <td>1378</td>\n",
       "      <td>Young Guns (1988)</td>\n",
       "      <td>Action|Comedy|Western</td>\n",
       "      <td>3.600125</td>\n",
       "    </tr>\n",
       "    <tr>\n",
       "      <th>1</th>\n",
       "      <td>45</td>\n",
       "      <td>102903</td>\n",
       "      <td>Now You See Me (2013)</td>\n",
       "      <td>Crime|Mystery|Thriller</td>\n",
       "      <td>3.594754</td>\n",
       "    </tr>\n",
       "    <tr>\n",
       "      <th>2</th>\n",
       "      <td>45</td>\n",
       "      <td>133419</td>\n",
       "      <td>Pitch Perfect 2 (2015)</td>\n",
       "      <td>Comedy</td>\n",
       "      <td>3.568748</td>\n",
       "    </tr>\n",
       "    <tr>\n",
       "      <th>3</th>\n",
       "      <td>45</td>\n",
       "      <td>3441</td>\n",
       "      <td>Red Dawn (1984)</td>\n",
       "      <td>Action|Drama|War</td>\n",
       "      <td>3.566968</td>\n",
       "    </tr>\n",
       "    <tr>\n",
       "      <th>4</th>\n",
       "      <td>45</td>\n",
       "      <td>89904</td>\n",
       "      <td>The Artist (2011)</td>\n",
       "      <td>Comedy|Drama|Romance</td>\n",
       "      <td>3.546616</td>\n",
       "    </tr>\n",
       "    <tr>\n",
       "      <th>5</th>\n",
       "      <td>45</td>\n",
       "      <td>30707</td>\n",
       "      <td>Million Dollar Baby (2004)</td>\n",
       "      <td>Drama</td>\n",
       "      <td>3.528642</td>\n",
       "    </tr>\n",
       "    <tr>\n",
       "      <th>6</th>\n",
       "      <td>45</td>\n",
       "      <td>106487</td>\n",
       "      <td>The Hunger Games: Catching Fire (2013)</td>\n",
       "      <td>Action|Adventure|Sci-Fi|IMAX</td>\n",
       "      <td>3.528182</td>\n",
       "    </tr>\n",
       "    <tr>\n",
       "      <th>7</th>\n",
       "      <td>45</td>\n",
       "      <td>55721</td>\n",
       "      <td>Elite Squad (Tropa de Elite) (2007)</td>\n",
       "      <td>Action|Crime|Drama|Thriller</td>\n",
       "      <td>3.512346</td>\n",
       "    </tr>\n",
       "    <tr>\n",
       "      <th>8</th>\n",
       "      <td>45</td>\n",
       "      <td>3969</td>\n",
       "      <td>Pay It Forward (2000)</td>\n",
       "      <td>Drama</td>\n",
       "      <td>3.490879</td>\n",
       "    </tr>\n",
       "    <tr>\n",
       "      <th>9</th>\n",
       "      <td>45</td>\n",
       "      <td>67255</td>\n",
       "      <td>Girl with the Dragon Tattoo, The (Män som hata...</td>\n",
       "      <td>Crime|Drama|Mystery|Thriller</td>\n",
       "      <td>3.487619</td>\n",
       "    </tr>\n",
       "  </tbody>\n",
       "</table>\n",
       "</div>"
      ],
      "text/plain": [
       "   UserID  MovieID                                              Movie  \\\n",
       "0      45     1378                                  Young Guns (1988)   \n",
       "1      45   102903                              Now You See Me (2013)   \n",
       "2      45   133419                             Pitch Perfect 2 (2015)   \n",
       "3      45     3441                                    Red Dawn (1984)   \n",
       "4      45    89904                                  The Artist (2011)   \n",
       "5      45    30707                         Million Dollar Baby (2004)   \n",
       "6      45   106487             The Hunger Games: Catching Fire (2013)   \n",
       "7      45    55721                Elite Squad (Tropa de Elite) (2007)   \n",
       "8      45     3969                              Pay It Forward (2000)   \n",
       "9      45    67255  Girl with the Dragon Tattoo, The (Män som hata...   \n",
       "\n",
       "                         Genres  Prediction  \n",
       "0         Action|Comedy|Western    3.600125  \n",
       "1        Crime|Mystery|Thriller    3.594754  \n",
       "2                        Comedy    3.568748  \n",
       "3              Action|Drama|War    3.566968  \n",
       "4          Comedy|Drama|Romance    3.546616  \n",
       "5                         Drama    3.528642  \n",
       "6  Action|Adventure|Sci-Fi|IMAX    3.528182  \n",
       "7   Action|Crime|Drama|Thriller    3.512346  \n",
       "8                         Drama    3.490879  \n",
       "9  Crime|Drama|Mystery|Thriller    3.487619  "
      ]
     },
     "execution_count": 39,
     "metadata": {},
     "output_type": "execute_result"
    }
   ],
   "source": [
    "predictions = np.zeros((n_movies, 1))\n",
    "movie_to_column_items = np.array(list(movie_to_column.items()))\n",
    "df_rows = []  # List to store rows for the DataFrame\n",
    "\n",
    "# Generate predictions for all movies for the given user\n",
    "for i, movie in enumerate(movie_to_column_items):\n",
    "    predictions[i] = predict(user_id, movie[0])\n",
    "\n",
    "# Sort predictions in descending order\n",
    "indices = np.argsort(-predictions, axis=0)\n",
    "\n",
    "# Get top 10 movies\n",
    "for j in range(10):\n",
    "    movie_id = int(movie_to_column_items[np.where(movie_to_column_items[:, 1] == indices[j])][0][0])\n",
    "    df_row = {\n",
    "        'UserID': user_id,\n",
    "        'MovieID': movie_id,\n",
    "        'Movie': df_movies[df_movies['movieId'] == movie_id].iloc[0]['title'],\n",
    "        'Genres': df_movies[df_movies['movieId'] == movie_id].iloc[0]['genres'],\n",
    "        'Prediction': predictions[indices[j]][0][0]\n",
    "    }\n",
    "    df_rows.append(df_row)\n",
    "\n",
    "# Create a DataFrame from the collected rows\n",
    "df_result = pd.DataFrame(df_rows)\n",
    "\n",
    "df_result\n"
   ]
  },
  {
   "cell_type": "markdown",
   "metadata": {
    "colab_type": "text",
    "id": "S2xU-gjQQrwZ"
   },
   "source": [
    "Now the predictions for least preferred items."
   ]
  },
  {
   "cell_type": "code",
   "execution_count": 41,
   "metadata": {
    "colab": {
     "base_uri": "https://localhost:8080/"
    },
    "colab_type": "code",
    "id": "d2nL5rsz2dR8",
    "outputId": "3924eb3e-d164-48c7-9738-f2cff38bd4c1"
   },
   "outputs": [
    {
     "data": {
      "text/html": [
       "<div>\n",
       "<style scoped>\n",
       "    .dataframe tbody tr th:only-of-type {\n",
       "        vertical-align: middle;\n",
       "    }\n",
       "\n",
       "    .dataframe tbody tr th {\n",
       "        vertical-align: top;\n",
       "    }\n",
       "\n",
       "    .dataframe thead th {\n",
       "        text-align: right;\n",
       "    }\n",
       "</style>\n",
       "<table border=\"1\" class=\"dataframe\">\n",
       "  <thead>\n",
       "    <tr style=\"text-align: right;\">\n",
       "      <th></th>\n",
       "      <th>UserID</th>\n",
       "      <th>MovieID</th>\n",
       "      <th>Movie</th>\n",
       "      <th>Genres</th>\n",
       "      <th>Prediction</th>\n",
       "    </tr>\n",
       "  </thead>\n",
       "  <tbody>\n",
       "    <tr>\n",
       "      <th>0</th>\n",
       "      <td>45</td>\n",
       "      <td>2367</td>\n",
       "      <td>King Kong (1976)</td>\n",
       "      <td>Adventure|Fantasy|Romance|Sci-Fi|Thriller</td>\n",
       "      <td>2.326124</td>\n",
       "    </tr>\n",
       "    <tr>\n",
       "      <th>1</th>\n",
       "      <td>45</td>\n",
       "      <td>155</td>\n",
       "      <td>Beyond Rangoon (1995)</td>\n",
       "      <td>Adventure|Drama|War</td>\n",
       "      <td>2.391058</td>\n",
       "    </tr>\n",
       "    <tr>\n",
       "      <th>2</th>\n",
       "      <td>45</td>\n",
       "      <td>132046</td>\n",
       "      <td>Tomorrowland (2015)</td>\n",
       "      <td>Action|Adventure|Children|Mystery|Sci-Fi</td>\n",
       "      <td>2.409350</td>\n",
       "    </tr>\n",
       "    <tr>\n",
       "      <th>3</th>\n",
       "      <td>45</td>\n",
       "      <td>1759</td>\n",
       "      <td>Four Days in September (O Que É Isso, Companhe...</td>\n",
       "      <td>Drama</td>\n",
       "      <td>2.412734</td>\n",
       "    </tr>\n",
       "    <tr>\n",
       "      <th>4</th>\n",
       "      <td>45</td>\n",
       "      <td>495</td>\n",
       "      <td>In the Realm of the Senses (Ai no corrida) (1976)</td>\n",
       "      <td>Drama</td>\n",
       "      <td>2.412734</td>\n",
       "    </tr>\n",
       "    <tr>\n",
       "      <th>5</th>\n",
       "      <td>45</td>\n",
       "      <td>3637</td>\n",
       "      <td>Vagabond (Sans toit ni loi) (1985)</td>\n",
       "      <td>Drama</td>\n",
       "      <td>2.412734</td>\n",
       "    </tr>\n",
       "    <tr>\n",
       "      <th>6</th>\n",
       "      <td>45</td>\n",
       "      <td>1437</td>\n",
       "      <td>Cement Garden, The (1993)</td>\n",
       "      <td>Drama</td>\n",
       "      <td>2.412734</td>\n",
       "    </tr>\n",
       "    <tr>\n",
       "      <th>7</th>\n",
       "      <td>45</td>\n",
       "      <td>3531</td>\n",
       "      <td>All the Vermeers in New York (1990)</td>\n",
       "      <td>Comedy|Drama|Romance</td>\n",
       "      <td>2.412734</td>\n",
       "    </tr>\n",
       "    <tr>\n",
       "      <th>8</th>\n",
       "      <td>45</td>\n",
       "      <td>2512</td>\n",
       "      <td>Ballad of Narayama, The (Narayama bushiko) (1983)</td>\n",
       "      <td>Drama</td>\n",
       "      <td>2.412734</td>\n",
       "    </tr>\n",
       "    <tr>\n",
       "      <th>9</th>\n",
       "      <td>45</td>\n",
       "      <td>1310</td>\n",
       "      <td>Hype! (1996)</td>\n",
       "      <td>Documentary</td>\n",
       "      <td>2.412734</td>\n",
       "    </tr>\n",
       "  </tbody>\n",
       "</table>\n",
       "</div>"
      ],
      "text/plain": [
       "   UserID  MovieID                                              Movie  \\\n",
       "0      45     2367                                   King Kong (1976)   \n",
       "1      45      155                              Beyond Rangoon (1995)   \n",
       "2      45   132046                                Tomorrowland (2015)   \n",
       "3      45     1759  Four Days in September (O Que É Isso, Companhe...   \n",
       "4      45      495  In the Realm of the Senses (Ai no corrida) (1976)   \n",
       "5      45     3637                 Vagabond (Sans toit ni loi) (1985)   \n",
       "6      45     1437                          Cement Garden, The (1993)   \n",
       "7      45     3531                All the Vermeers in New York (1990)   \n",
       "8      45     2512  Ballad of Narayama, The (Narayama bushiko) (1983)   \n",
       "9      45     1310                                       Hype! (1996)   \n",
       "\n",
       "                                      Genres  Prediction  \n",
       "0  Adventure|Fantasy|Romance|Sci-Fi|Thriller    2.326124  \n",
       "1                        Adventure|Drama|War    2.391058  \n",
       "2   Action|Adventure|Children|Mystery|Sci-Fi    2.409350  \n",
       "3                                      Drama    2.412734  \n",
       "4                                      Drama    2.412734  \n",
       "5                                      Drama    2.412734  \n",
       "6                                      Drama    2.412734  \n",
       "7                       Comedy|Drama|Romance    2.412734  \n",
       "8                                      Drama    2.412734  \n",
       "9                                Documentary    2.412734  "
      ]
     },
     "execution_count": 41,
     "metadata": {},
     "output_type": "execute_result"
    }
   ],
   "source": [
    "df_rows = []  # Initialize an empty list to store rows\n",
    "indices = np.argsort(predictions, axis=0)  # Sort predictions in ascending order\n",
    "\n",
    "for j in range(10):  # Loop through the top 10 predictions\n",
    "    movie_id = int(movie_to_column_items[np.where(movie_to_column_items[:, 1] == indices[j])][0][0])\n",
    "    df_row = {\n",
    "        'UserID': user_id,\n",
    "        'MovieID': movie_id,\n",
    "        'Movie': df_movies[df_movies['movieId'] == movie_id].iloc[0]['title'],\n",
    "        'Genres': df_movies[df_movies['movieId'] == movie_id].iloc[0]['genres'],\n",
    "        'Prediction': predictions[indices[j]][0][0]\n",
    "    }\n",
    "    df_rows.append(df_row)  # Append the row as a dictionary to the list\n",
    "\n",
    "# Convert the list of rows into a DataFrame\n",
    "df_result = pd.DataFrame(df_rows)\n",
    "\n",
    "df_result"
   ]
  }
 ],
 "metadata": {
  "colab": {
   "collapsed_sections": [],
   "name": "PMF_Recommender_Systems.ipynb",
   "provenance": [],
   "toc_visible": true
  },
  "kernelspec": {
   "display_name": "Python 3 (ipykernel)",
   "language": "python",
   "name": "python3"
  },
  "language_info": {
   "codemirror_mode": {
    "name": "ipython",
    "version": 3
   },
   "file_extension": ".py",
   "mimetype": "text/x-python",
   "name": "python",
   "nbconvert_exporter": "python",
   "pygments_lexer": "ipython3",
   "version": "3.11.5"
  }
 },
 "nbformat": 4,
 "nbformat_minor": 1
}
